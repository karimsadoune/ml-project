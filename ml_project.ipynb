{
 "cells": [
  {
   "cell_type": "markdown",
   "id": "ea2bf039",
   "metadata": {},
   "source": [
    "# Problem Introduction\n",
    "The problem we will tackle is predicting the max temperature for tomorrow in the city using one year of past weather data.\n",
    "What we do have access to is one year of historical max temperatures, the temperatures for the previous two days, and an estimate from a friend who is always claiming to know everything about the weather. This is a supervised, regression machine learning problem. It’s supervised because we have both the features (data for the city) and the targets (temperature) that we want to predict. During training, we give the random forest both the features and targets and it must learn how to map the data to a prediction. Moreover, this is a regression task because the target value is continuous"
   ]
  },
  {
   "cell_type": "markdown",
   "id": "56734b0d",
   "metadata": {},
   "source": [
    "# Data Acquisition\n",
    "The following Python code loads in the csv data and displays the structure of the data:"
   ]
  },
  {
   "cell_type": "code",
   "execution_count": 1,
   "id": "5d5df234",
   "metadata": {},
   "outputs": [
    {
     "data": {
      "text/html": [
       "<div>\n",
       "<style scoped>\n",
       "    .dataframe tbody tr th:only-of-type {\n",
       "        vertical-align: middle;\n",
       "    }\n",
       "\n",
       "    .dataframe tbody tr th {\n",
       "        vertical-align: top;\n",
       "    }\n",
       "\n",
       "    .dataframe thead th {\n",
       "        text-align: right;\n",
       "    }\n",
       "</style>\n",
       "<table border=\"1\" class=\"dataframe\">\n",
       "  <thead>\n",
       "    <tr style=\"text-align: right;\">\n",
       "      <th></th>\n",
       "      <th>year</th>\n",
       "      <th>month</th>\n",
       "      <th>day</th>\n",
       "      <th>week</th>\n",
       "      <th>temp_2</th>\n",
       "      <th>temp_1</th>\n",
       "      <th>average</th>\n",
       "      <th>actual</th>\n",
       "      <th>friend</th>\n",
       "    </tr>\n",
       "  </thead>\n",
       "  <tbody>\n",
       "    <tr>\n",
       "      <th>0</th>\n",
       "      <td>2016</td>\n",
       "      <td>1</td>\n",
       "      <td>1</td>\n",
       "      <td>Fri</td>\n",
       "      <td>45</td>\n",
       "      <td>45</td>\n",
       "      <td>45.6</td>\n",
       "      <td>45</td>\n",
       "      <td>29</td>\n",
       "    </tr>\n",
       "    <tr>\n",
       "      <th>1</th>\n",
       "      <td>2016</td>\n",
       "      <td>1</td>\n",
       "      <td>2</td>\n",
       "      <td>Sat</td>\n",
       "      <td>44</td>\n",
       "      <td>45</td>\n",
       "      <td>45.7</td>\n",
       "      <td>44</td>\n",
       "      <td>61</td>\n",
       "    </tr>\n",
       "    <tr>\n",
       "      <th>2</th>\n",
       "      <td>2016</td>\n",
       "      <td>1</td>\n",
       "      <td>3</td>\n",
       "      <td>Sun</td>\n",
       "      <td>45</td>\n",
       "      <td>44</td>\n",
       "      <td>45.8</td>\n",
       "      <td>41</td>\n",
       "      <td>56</td>\n",
       "    </tr>\n",
       "    <tr>\n",
       "      <th>3</th>\n",
       "      <td>2016</td>\n",
       "      <td>1</td>\n",
       "      <td>4</td>\n",
       "      <td>Mon</td>\n",
       "      <td>44</td>\n",
       "      <td>41</td>\n",
       "      <td>45.9</td>\n",
       "      <td>40</td>\n",
       "      <td>53</td>\n",
       "    </tr>\n",
       "    <tr>\n",
       "      <th>4</th>\n",
       "      <td>2016</td>\n",
       "      <td>1</td>\n",
       "      <td>5</td>\n",
       "      <td>Tues</td>\n",
       "      <td>41</td>\n",
       "      <td>40</td>\n",
       "      <td>46.0</td>\n",
       "      <td>44</td>\n",
       "      <td>41</td>\n",
       "    </tr>\n",
       "  </tbody>\n",
       "</table>\n",
       "</div>"
      ],
      "text/plain": [
       "   year  month  day  week  temp_2  temp_1  average  actual  friend\n",
       "0  2016      1    1   Fri      45      45     45.6      45      29\n",
       "1  2016      1    2   Sat      44      45     45.7      44      61\n",
       "2  2016      1    3   Sun      45      44     45.8      41      56\n",
       "3  2016      1    4   Mon      44      41     45.9      40      53\n",
       "4  2016      1    5  Tues      41      40     46.0      44      41"
      ]
     },
     "execution_count": 1,
     "metadata": {},
     "output_type": "execute_result"
    }
   ],
   "source": [
    "# For data manipulation\n",
    "import pandas as pd\n",
    "# Read in data and display first 5 rows\n",
    "features = pd.read_csv('temps.csv')\n",
    "# drop the columns that contains forecast values\n",
    "features.drop(['forecast_noaa','forecast_acc','forecast_under'], axis=1, inplace=True)\n",
    "features.head(5)"
   ]
  },
  {
   "cell_type": "markdown",
   "id": "a1961860",
   "metadata": {},
   "source": [
    "## Following are explanations of the columns:\n",
    "### year: \n",
    "2016 for all data points\n",
    "### month: \n",
    "number for month of the year\n",
    "### day: \n",
    "number for day of the year\n",
    "### week: \n",
    "day of the week as a character string\n",
    "### temp_2: \n",
    "max temperature 2 days prior\n",
    "### temp_1: \n",
    "max temperature 1 day prior\n",
    "### average: \n",
    "historical average max temperature\n",
    "### actual: \n",
    "max temperature measurement\n",
    "### friend:\n",
    "a friend's prediction, a random number between 20 below the average and 20 above the average"
   ]
  },
  {
   "cell_type": "markdown",
   "id": "eef7d5ca",
   "metadata": {},
   "source": [
    "# Identify Anomalies/ Missing Data\n",
    "If we look at the dimensions of the data, we notice only there are only 348 rows, which doesn’t quite agree with the 366 days we know there were in 2016.\n",
    "We also can see there are twelve columns which represent eight features and the one target (‘actual’)."
   ]
  },
  {
   "cell_type": "code",
   "execution_count": 2,
   "id": "3af6bd08",
   "metadata": {},
   "outputs": [
    {
     "name": "stdout",
     "output_type": "stream",
     "text": [
      "The shape of our features is: (348, 9)\n"
     ]
    }
   ],
   "source": [
    "print('The shape of our features is:', features.shape)\n"
   ]
  },
  {
   "cell_type": "markdown",
   "id": "fa81342f",
   "metadata": {},
   "source": [
    "To identify anomalies, we can quickly compute summary statistics."
   ]
  },
  {
   "cell_type": "code",
   "execution_count": 3,
   "id": "f19ac9b4",
   "metadata": {},
   "outputs": [
    {
     "data": {
      "text/html": [
       "<div>\n",
       "<style scoped>\n",
       "    .dataframe tbody tr th:only-of-type {\n",
       "        vertical-align: middle;\n",
       "    }\n",
       "\n",
       "    .dataframe tbody tr th {\n",
       "        vertical-align: top;\n",
       "    }\n",
       "\n",
       "    .dataframe thead th {\n",
       "        text-align: right;\n",
       "    }\n",
       "</style>\n",
       "<table border=\"1\" class=\"dataframe\">\n",
       "  <thead>\n",
       "    <tr style=\"text-align: right;\">\n",
       "      <th></th>\n",
       "      <th>year</th>\n",
       "      <th>month</th>\n",
       "      <th>day</th>\n",
       "      <th>temp_2</th>\n",
       "      <th>temp_1</th>\n",
       "      <th>average</th>\n",
       "      <th>actual</th>\n",
       "      <th>friend</th>\n",
       "    </tr>\n",
       "  </thead>\n",
       "  <tbody>\n",
       "    <tr>\n",
       "      <th>count</th>\n",
       "      <td>348.0</td>\n",
       "      <td>348.000000</td>\n",
       "      <td>348.000000</td>\n",
       "      <td>348.000000</td>\n",
       "      <td>348.000000</td>\n",
       "      <td>348.000000</td>\n",
       "      <td>348.000000</td>\n",
       "      <td>348.000000</td>\n",
       "    </tr>\n",
       "    <tr>\n",
       "      <th>mean</th>\n",
       "      <td>2016.0</td>\n",
       "      <td>6.477011</td>\n",
       "      <td>15.514368</td>\n",
       "      <td>62.652299</td>\n",
       "      <td>62.701149</td>\n",
       "      <td>59.760632</td>\n",
       "      <td>62.543103</td>\n",
       "      <td>60.034483</td>\n",
       "    </tr>\n",
       "    <tr>\n",
       "      <th>std</th>\n",
       "      <td>0.0</td>\n",
       "      <td>3.498380</td>\n",
       "      <td>8.772982</td>\n",
       "      <td>12.165398</td>\n",
       "      <td>12.120542</td>\n",
       "      <td>10.527306</td>\n",
       "      <td>11.794146</td>\n",
       "      <td>15.626179</td>\n",
       "    </tr>\n",
       "    <tr>\n",
       "      <th>min</th>\n",
       "      <td>2016.0</td>\n",
       "      <td>1.000000</td>\n",
       "      <td>1.000000</td>\n",
       "      <td>35.000000</td>\n",
       "      <td>35.000000</td>\n",
       "      <td>45.100000</td>\n",
       "      <td>35.000000</td>\n",
       "      <td>28.000000</td>\n",
       "    </tr>\n",
       "    <tr>\n",
       "      <th>25%</th>\n",
       "      <td>2016.0</td>\n",
       "      <td>3.000000</td>\n",
       "      <td>8.000000</td>\n",
       "      <td>54.000000</td>\n",
       "      <td>54.000000</td>\n",
       "      <td>49.975000</td>\n",
       "      <td>54.000000</td>\n",
       "      <td>47.750000</td>\n",
       "    </tr>\n",
       "    <tr>\n",
       "      <th>50%</th>\n",
       "      <td>2016.0</td>\n",
       "      <td>6.000000</td>\n",
       "      <td>15.000000</td>\n",
       "      <td>62.500000</td>\n",
       "      <td>62.500000</td>\n",
       "      <td>58.200000</td>\n",
       "      <td>62.500000</td>\n",
       "      <td>60.000000</td>\n",
       "    </tr>\n",
       "    <tr>\n",
       "      <th>75%</th>\n",
       "      <td>2016.0</td>\n",
       "      <td>10.000000</td>\n",
       "      <td>23.000000</td>\n",
       "      <td>71.000000</td>\n",
       "      <td>71.000000</td>\n",
       "      <td>69.025000</td>\n",
       "      <td>71.000000</td>\n",
       "      <td>71.000000</td>\n",
       "    </tr>\n",
       "    <tr>\n",
       "      <th>max</th>\n",
       "      <td>2016.0</td>\n",
       "      <td>12.000000</td>\n",
       "      <td>31.000000</td>\n",
       "      <td>117.000000</td>\n",
       "      <td>117.000000</td>\n",
       "      <td>77.400000</td>\n",
       "      <td>92.000000</td>\n",
       "      <td>95.000000</td>\n",
       "    </tr>\n",
       "  </tbody>\n",
       "</table>\n",
       "</div>"
      ],
      "text/plain": [
       "         year       month         day      temp_2      temp_1     average  \\\n",
       "count   348.0  348.000000  348.000000  348.000000  348.000000  348.000000   \n",
       "mean   2016.0    6.477011   15.514368   62.652299   62.701149   59.760632   \n",
       "std       0.0    3.498380    8.772982   12.165398   12.120542   10.527306   \n",
       "min    2016.0    1.000000    1.000000   35.000000   35.000000   45.100000   \n",
       "25%    2016.0    3.000000    8.000000   54.000000   54.000000   49.975000   \n",
       "50%    2016.0    6.000000   15.000000   62.500000   62.500000   58.200000   \n",
       "75%    2016.0   10.000000   23.000000   71.000000   71.000000   69.025000   \n",
       "max    2016.0   12.000000   31.000000  117.000000  117.000000   77.400000   \n",
       "\n",
       "           actual      friend  \n",
       "count  348.000000  348.000000  \n",
       "mean    62.543103   60.034483  \n",
       "std     11.794146   15.626179  \n",
       "min     35.000000   28.000000  \n",
       "25%     54.000000   47.750000  \n",
       "50%     62.500000   60.000000  \n",
       "75%     71.000000   71.000000  \n",
       "max     92.000000   95.000000  "
      ]
     },
     "execution_count": 3,
     "metadata": {},
     "output_type": "execute_result"
    }
   ],
   "source": [
    "features.describe()"
   ]
  },
  {
   "cell_type": "markdown",
   "id": "c87c401d",
   "metadata": {},
   "source": [
    "# Data Preparation"
   ]
  },
  {
   "attachments": {
    "Sans%20titre.png": {
     "image/png": "[encoded data removed]"
    }
   },
   "cell_type": "markdown",
   "id": "f62fc0bc",
   "metadata": {},
   "source": [
    "We will need to do some minor modification to put our data into machine-understandable terms. \n",
    "for that we will use:\n",
    "## One-Hot Encoding\n",
    "This process takes categorical variables, such as days of the week and converts it to a numerical representation without an arbitrary ordering.\n",
    "we change the single column of weekdays into seven columns of binary data.\n",
    "![Sans%20titre.png](attachment:Sans%20titre.png)\n",
    "into\n",
    "\n",
    "\n"
   ]
  },
  {
   "attachments": {
    "Sans%20titre1.png": {
     "image/png": "[encoded data removed]"
    }
   },
   "cell_type": "markdown",
   "id": "5b61d3de",
   "metadata": {},
   "source": [
    "![Sans%20titre1.png](attachment:Sans%20titre1.png)"
   ]
  },
  {
   "cell_type": "code",
   "execution_count": 4,
   "id": "6b5f1605",
   "metadata": {},
   "outputs": [
    {
     "data": {
      "text/html": [
       "<div>\n",
       "<style scoped>\n",
       "    .dataframe tbody tr th:only-of-type {\n",
       "        vertical-align: middle;\n",
       "    }\n",
       "\n",
       "    .dataframe tbody tr th {\n",
       "        vertical-align: top;\n",
       "    }\n",
       "\n",
       "    .dataframe thead th {\n",
       "        text-align: right;\n",
       "    }\n",
       "</style>\n",
       "<table border=\"1\" class=\"dataframe\">\n",
       "  <thead>\n",
       "    <tr style=\"text-align: right;\">\n",
       "      <th></th>\n",
       "      <th>week_Fri</th>\n",
       "      <th>week_Mon</th>\n",
       "      <th>week_Sat</th>\n",
       "      <th>week_Sun</th>\n",
       "      <th>week_Thurs</th>\n",
       "      <th>week_Tues</th>\n",
       "      <th>week_Wed</th>\n",
       "    </tr>\n",
       "  </thead>\n",
       "  <tbody>\n",
       "    <tr>\n",
       "      <th>0</th>\n",
       "      <td>1</td>\n",
       "      <td>0</td>\n",
       "      <td>0</td>\n",
       "      <td>0</td>\n",
       "      <td>0</td>\n",
       "      <td>0</td>\n",
       "      <td>0</td>\n",
       "    </tr>\n",
       "    <tr>\n",
       "      <th>1</th>\n",
       "      <td>0</td>\n",
       "      <td>0</td>\n",
       "      <td>1</td>\n",
       "      <td>0</td>\n",
       "      <td>0</td>\n",
       "      <td>0</td>\n",
       "      <td>0</td>\n",
       "    </tr>\n",
       "    <tr>\n",
       "      <th>2</th>\n",
       "      <td>0</td>\n",
       "      <td>0</td>\n",
       "      <td>0</td>\n",
       "      <td>1</td>\n",
       "      <td>0</td>\n",
       "      <td>0</td>\n",
       "      <td>0</td>\n",
       "    </tr>\n",
       "    <tr>\n",
       "      <th>3</th>\n",
       "      <td>0</td>\n",
       "      <td>1</td>\n",
       "      <td>0</td>\n",
       "      <td>0</td>\n",
       "      <td>0</td>\n",
       "      <td>0</td>\n",
       "      <td>0</td>\n",
       "    </tr>\n",
       "    <tr>\n",
       "      <th>4</th>\n",
       "      <td>0</td>\n",
       "      <td>0</td>\n",
       "      <td>0</td>\n",
       "      <td>0</td>\n",
       "      <td>0</td>\n",
       "      <td>1</td>\n",
       "      <td>0</td>\n",
       "    </tr>\n",
       "  </tbody>\n",
       "</table>\n",
       "</div>"
      ],
      "text/plain": [
       "   week_Fri  week_Mon  week_Sat  week_Sun  week_Thurs  week_Tues  week_Wed\n",
       "0         1         0         0         0           0          0         0\n",
       "1         0         0         1         0           0          0         0\n",
       "2         0         0         0         1           0          0         0\n",
       "3         0         1         0         0           0          0         0\n",
       "4         0         0         0         0           0          1         0"
      ]
     },
     "execution_count": 4,
     "metadata": {},
     "output_type": "execute_result"
    }
   ],
   "source": [
    "# One-hot encode the data using pandas get_dummies\n",
    "features = pd.get_dummies(features)\n",
    "# Display the first 5 rows of the last 12 columns\n",
    "features.iloc[:,8:].head(5)\n"
   ]
  },
  {
   "cell_type": "code",
   "execution_count": 5,
   "id": "67efc37e",
   "metadata": {},
   "outputs": [
    {
     "name": "stdout",
     "output_type": "stream",
     "text": [
      "the shape now is:  (348, 15)\n"
     ]
    }
   ],
   "source": [
    "print(\"the shape now is: \", features.shape)"
   ]
  },
  {
   "cell_type": "markdown",
   "id": "efc3f1e4",
   "metadata": {},
   "source": [
    "## Features and Targets and Convert Data to Arrays\n",
    "Now, we need to separate the data into the features and targets. The target, also known as the label, is the value we want to predict, in this case the actual max temperature and the features are all the columns the model uses to make a prediction. We will also convert the Pandas dataframes to Numpy arrays because that is the way the algorithm works. (I save the column headers, which are the names of the features, to a list to use for later visualization)."
   ]
  },
  {
   "cell_type": "code",
   "execution_count": 6,
   "id": "fd95a761",
   "metadata": {},
   "outputs": [],
   "source": [
    "# Use numpy to convert to arrays\n",
    "import numpy as np\n",
    "# Labels are the values we want to predict\n",
    "y = np.array(features['actual'])\n",
    "# Remove the labels from the features\n",
    "# axis 1 refers to the columns\n",
    "X = features.drop('actual', axis = 1)\n",
    "# Saving feature names for later use\n",
    "feature_list = list(X.columns)\n",
    "# Convert to numpy array\n",
    "X = np.array(X)"
   ]
  },
  {
   "cell_type": "code",
   "execution_count": 8,
   "id": "73f45b7f",
   "metadata": {},
   "outputs": [
    {
     "name": "stdout",
     "output_type": "stream",
     "text": [
      "[[2.016e+03 1.000e+00 1.000e+00 ... 0.000e+00 0.000e+00 0.000e+00]\n",
      " [2.016e+03 1.000e+00 2.000e+00 ... 0.000e+00 0.000e+00 0.000e+00]\n",
      " [2.016e+03 1.000e+00 3.000e+00 ... 0.000e+00 0.000e+00 0.000e+00]\n",
      " ...\n",
      " [2.016e+03 1.200e+01 2.900e+01 ... 1.000e+00 0.000e+00 0.000e+00]\n",
      " [2.016e+03 1.200e+01 3.000e+01 ... 0.000e+00 0.000e+00 0.000e+00]\n",
      " [2.016e+03 1.200e+01 3.100e+01 ... 0.000e+00 0.000e+00 0.000e+00]]\n"
     ]
    }
   ],
   "source": [
    "print(X)"
   ]
  },
  {
   "cell_type": "markdown",
   "id": "0b59ca84",
   "metadata": {},
   "source": [
    "## Training and Testing Sets\n",
    "There is one final step of data preparation: splitting data into training and testing sets. During training, we let the model ‘see’ the answers, in this case the actual temperature, so it can learn how to predict the temperature from the features. We expect there to be some relationship between all the features and the target value, and the model’s job is to learn this relationship during training. Then, when it comes time to evaluate the model, we ask it to make predictions on a testing set where it only has access to the features, we can compare these predictions to the true value to judge how accurate the model is. Generally, when training a model, we randomly split the data into training and testing sets to get a representation of all data points"
   ]
  },
  {
   "cell_type": "code",
   "execution_count": 9,
   "id": "85add964",
   "metadata": {},
   "outputs": [],
   "source": [
    "# Using Skicit-learn to split data into training and testing sets\n",
    "from sklearn.model_selection import train_test_split\n",
    "# Split the data into training and testing sets\n",
    "train_X, test_X, train_y, test_y = train_test_split(X, y, test_size = 0.25, random_state = 0)"
   ]
  },
  {
   "cell_type": "markdown",
   "id": "ea2c66c5",
   "metadata": {},
   "source": [
    "We can look at the shape of all the data to make sure we did everything correctly. We expect the training features number of columns to match the testing feature number of columns and the number of rows to match for the respective training and testing features and the labels :"
   ]
  },
  {
   "cell_type": "code",
   "execution_count": 10,
   "id": "a3541d8b",
   "metadata": {},
   "outputs": [
    {
     "name": "stdout",
     "output_type": "stream",
     "text": [
      "Training Features Shape: (261, 14)\n",
      "Training Labels Shape: (261,)\n",
      "Testing Features Shape: (87, 14)\n",
      "Testing Labels Shape: (87,)\n"
     ]
    }
   ],
   "source": [
    "print('Training Features Shape:', train_X.shape)\n",
    "print('Training Labels Shape:', train_y.shape)\n",
    "print('Testing Features Shape:', test_X.shape)\n",
    "print('Testing Labels Shape:', test_y.shape)"
   ]
  },
  {
   "cell_type": "markdown",
   "id": "dbdaf841",
   "metadata": {},
   "source": [
    "# Train Model \n",
    "We import the random forest regression model from skicit-learn, instantiate the model, and fit the model on the training data."
   ]
  },
  {
   "cell_type": "code",
   "execution_count": 13,
   "id": "c511346a",
   "metadata": {},
   "outputs": [
    {
     "data": {
      "text/plain": [
       "RandomForestRegressor(n_estimators=1000, random_state=0)"
      ]
     },
     "execution_count": 13,
     "metadata": {},
     "output_type": "execute_result"
    }
   ],
   "source": [
    "# Import the model we are using\n",
    "from sklearn.ensemble import RandomForestRegressor\n",
    "# Instantiate model with 1000 decision trees\n",
    "model = RandomForestRegressor(n_estimators = 1000, random_state = 0)\n",
    "# Train the model on training data\n",
    "model.fit(train_X, train_y)"
   ]
  },
  {
   "cell_type": "markdown",
   "id": "b2fc28a4",
   "metadata": {},
   "source": [
    "# Make Predictions on the Test Set\n",
    "Our model has now been trained to learn the relationships between the features and the targets. The next step is figuring out how good the model is! To do this we make predictions on the test features.\n",
    "We then compare the predictions to the known answers."
   ]
  },
  {
   "cell_type": "code",
   "execution_count": 14,
   "id": "13c03050",
   "metadata": {},
   "outputs": [
    {
     "name": "stdout",
     "output_type": "stream",
     "text": [
      "Mean Absolute Error: 3.78 degrees.\n"
     ]
    }
   ],
   "source": [
    "# Use the forest's predict method on the test data\n",
    "predictions = model.predict(test_X)\n",
    "# Calculate the absolute errors\n",
    "errors = abs(predictions - test_y)\n",
    "# Print out the mean absolute error (mae)\n",
    "print('Mean Absolute Error:', round(np.mean(errors), 2), 'degrees.')"
   ]
  },
  {
   "cell_type": "markdown",
   "id": "2f13b6da",
   "metadata": {},
   "source": [
    "# Determine Performance Metrics\n",
    "To put our predictions in perspective, we can calculate an accuracy using the mean average percentage error subtracted from 100 %."
   ]
  },
  {
   "cell_type": "code",
   "execution_count": 18,
   "id": "4a6875e9",
   "metadata": {},
   "outputs": [
    {
     "name": "stdout",
     "output_type": "stream",
     "text": [
      "Accuracy: 93.92 %.\n"
     ]
    }
   ],
   "source": [
    "# Calculate mean absolute percentage error (MAPE)\n",
    "mape = 100 * (errors / test_y)\n",
    "# Calculate and display accuracy\n",
    "accuracy = 100 - np.mean(mape)\n",
    "print('Accuracy:', round(accuracy, 2), '%.')\n"
   ]
  },
  {
   "cell_type": "markdown",
   "id": "ae9d3175",
   "metadata": {},
   "source": [
    "Our model has learned how to predict the maximum temperature for the next day with 94% accuracy."
   ]
  },
  {
   "cell_type": "code",
   "execution_count": null,
   "id": "8ad132d2",
   "metadata": {},
   "outputs": [],
   "source": []
  }
 ],
 "metadata": {
  "kernelspec": {
   "display_name": "Python 3",
   "language": "python",
   "name": "python3"
  },
  "language_info": {
   "codemirror_mode": {
    "name": "ipython",
    "version": 3
   },
   "file_extension": ".py",
   "mimetype": "text/x-python",
   "name": "python",
   "nbconvert_exporter": "python",
   "pygments_lexer": "ipython3",
   "version": "3.8.8"
  }
 },
 "nbformat": 4,
 "nbformat_minor": 5
}
